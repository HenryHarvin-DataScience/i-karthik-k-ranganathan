{
 "cells": [
  {
   "cell_type": "markdown",
   "id": "1aaae962",
   "metadata": {},
   "source": [
    "# Python Assignment\n",
    "Write a program to create a menu which shows the following.\n",
    "Get the user input and perform the operation that was selected.\n",
    "## 1. Get student info and grades\n",
    "## 2. Get Student Grades\n",
    "## 3. Get Student List with Grades\n",
    "## 4. Get Class Average\n",
    "## 5. Save this to a file"
   ]
  },
  {
   "cell_type": "code",
   "execution_count": 1,
   "id": "fc60d06c",
   "metadata": {},
   "outputs": [],
   "source": [
    "students = {}"
   ]
  },
  {
   "cell_type": "code",
   "execution_count": 16,
   "id": "980023af",
   "metadata": {},
   "outputs": [],
   "source": [
    "def get_menu():\n",
    "    try:\n",
    "        print(\"--------------------------------------------\")\n",
    "        print(\"1. Add new Student and Grade\")\n",
    "        print(\"2. Display all students and grades\")\n",
    "        print(\"3. Get Class Average\")\n",
    "        print(\"4. Save this to a file\")\n",
    "        print(\"5. Load students data\")\n",
    "        print(\"6. Exit\")\n",
    "        operation = int(input(\"What do you want to do: \"))\n",
    "        if operation > 0:\n",
    "            return operation\n",
    "        \n",
    "        # at this point there is an invalid selection\n",
    "        print(\"Invalid operation selected...\")\n",
    "        return 0\n",
    "    \n",
    "    except:\n",
    "        print(\"Invalid operation selected...\")\n",
    "        return 0"
   ]
  },
  {
   "cell_type": "code",
   "execution_count": 8,
   "id": "f43a7df8",
   "metadata": {},
   "outputs": [],
   "source": [
    "def add_student():\n",
    "    \n",
    "    studentName = input(\"Enter the Student Name: \")\n",
    "    studentGrade = float(input(\"Enter the Student Grade: \"))\n",
    "    students[studentName] = studentGrade "
   ]
  },
  {
   "cell_type": "code",
   "execution_count": 19,
   "id": "aecbfe48",
   "metadata": {},
   "outputs": [],
   "source": [
    "def display_students(students):\n",
    "    print(\"\")\n",
    "    if students:\n",
    "        print(\"Students Name and Grade:\")\n",
    "        for name, grade in students.items():\n",
    "            print(f\"{name}: {grade}\")\n",
    "    else:\n",
    "        print(\"No student data available\")"
   ]
  },
  {
   "cell_type": "code",
   "execution_count": 20,
   "id": "b01747b1",
   "metadata": {},
   "outputs": [],
   "source": [
    "def get_class_avg(students):\n",
    "    \n",
    "    class_avg = 0.0\n",
    "    \n",
    "    print(\"\")\n",
    "    if students:\n",
    "        class_avg = sum(students.values()) / len(students)\n",
    "    \n",
    "    print(f\"Class Average is {class_avg}\")"
   ]
  },
  {
   "cell_type": "code",
   "execution_count": 21,
   "id": "602cab6e",
   "metadata": {},
   "outputs": [],
   "source": [
    "def save_to_file(students, fileName = \"students.csv\"):\n",
    "    with open(fileName, \"w\") as file:\n",
    "        if students:\n",
    "            for name, grade in students.items():\n",
    "                file.write(f\"{name}, {grade}\")\n",
    "        else:\n",
    "            print(\"No student data available\")     "
   ]
  },
  {
   "cell_type": "code",
   "execution_count": 22,
   "id": "90ea2727",
   "metadata": {},
   "outputs": [],
   "source": [
    "def load_from_file(fileName = \"students.csv\"):\n",
    "    import os\n",
    "    students = {}\n",
    "    if os.path.exists(fileName):\n",
    "        with open(fileName, \"r\") as file:\n",
    "            for line in file:\n",
    "                name, grade = line.strip().split(\",\")\n",
    "                students[name] = float(grade)\n",
    "        print(\"Data successfully loaded\")\n",
    "    else:\n",
    "        print(f\"File {fileName} not available\")\n",
    "    return students"
   ]
  },
  {
   "cell_type": "code",
   "execution_count": 23,
   "id": "ed781328",
   "metadata": {},
   "outputs": [
    {
     "name": "stdout",
     "output_type": "stream",
     "text": [
      "------\n",
      "--------------------------------------------\n",
      "1. Add new Student and Grade\n",
      "2. Display all students and grades\n",
      "3. Get Class Average\n",
      "4. Save this to a file\n",
      "5. Load students data\n",
      "6. Exit\n",
      "What do you want to do: 2\n",
      "\n",
      "No student data available\n",
      "------\n",
      "--------------------------------------------\n",
      "1. Add new Student and Grade\n",
      "2. Display all students and grades\n",
      "3. Get Class Average\n",
      "4. Save this to a file\n",
      "5. Load students data\n",
      "6. Exit\n",
      "What do you want to do: 6\n",
      "Thank you for using the system. Good bye...\n"
     ]
    }
   ],
   "source": [
    "students = {}\n",
    "while True:\n",
    "    print(\"------\")\n",
    "    op = get_menu()\n",
    "    if op == 1:\n",
    "        add_student()\n",
    "    \n",
    "    elif op == 2:\n",
    "        display_students(students)\n",
    "    \n",
    "    elif op == 3:\n",
    "        get_class_avg(students)\n",
    "    \n",
    "    elif op == 4:\n",
    "        save_to_file(students)\n",
    "        \n",
    "    elif op == 5:\n",
    "        load_from_file()\n",
    "        \n",
    "    else:\n",
    "        print(\"Thank you for using the system. Good bye...\")\n",
    "        break"
   ]
  },
  {
   "cell_type": "code",
   "execution_count": 8,
   "id": "54f83424",
   "metadata": {},
   "outputs": [
    {
     "name": "stdout",
     "output_type": "stream",
     "text": [
      "{}\n"
     ]
    }
   ],
   "source": [
    "print(students)"
   ]
  },
  {
   "cell_type": "code",
   "execution_count": null,
   "id": "670b5586",
   "metadata": {},
   "outputs": [],
   "source": [
    "students[1] = \"\""
   ]
  },
  {
   "cell_type": "code",
   "execution_count": null,
   "id": "3a98edf4",
   "metadata": {},
   "outputs": [],
   "source": []
  }
 ],
 "metadata": {
  "kernelspec": {
   "display_name": "Python 3 (ipykernel)",
   "language": "python",
   "name": "python3"
  },
  "language_info": {
   "codemirror_mode": {
    "name": "ipython",
    "version": 3
   },
   "file_extension": ".py",
   "mimetype": "text/x-python",
   "name": "python",
   "nbconvert_exporter": "python",
   "pygments_lexer": "ipython3",
   "version": "3.11.7"
  }
 },
 "nbformat": 4,
 "nbformat_minor": 5
}
